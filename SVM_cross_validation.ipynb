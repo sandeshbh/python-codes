{
 "cells": [
  {
   "cell_type": "markdown",
   "metadata": {},
   "source": [
    "### Play with the Model\n",
    "\n",
    "    Load the model saved to disk and play around with it to check predictions and score.    "
   ]
  },
  {
   "cell_type": "code",
   "execution_count": 16,
   "metadata": {
    "collapsed": true
   },
   "outputs": [],
   "source": [
    "# Load Imports as required\n",
    "\n",
    "import numpy ;\n",
    "import pandas as pd;\n",
    "from sklearn.externals import joblib;\n",
    "from sklearn import cross_validation;\n"
   ]
  },
  {
   "cell_type": "code",
   "execution_count": 17,
   "metadata": {
    "collapsed": false
   },
   "outputs": [],
   "source": [
    "train_data_loc = '../results/data_without_na.csv';\n",
    "train_labels_loc = '../dataset/trueclass.txt';\n",
    "\n",
    "data_df = pd.read_csv(train_data_loc, sep =\",\", index_col = 0);\n",
    "labels_df = pd.read_csv(train_labels_loc, sep=\" \");\n"
   ]
  },
  {
   "cell_type": "code",
   "execution_count": null,
   "metadata": {
    "collapsed": false
   },
   "outputs": [],
   "source": [
    "# load the model\n",
    "\n",
    "model = joblib.load('../models/svm_training_split_pearson_fit.pkl');\n",
    "\n",
    "# Prepare test and training set\n",
    "\n",
    "label_numpy_arr = labels_df.iloc[:,0]\n",
    "\n",
    "#X_train, X_test, y_train, y_test = cross_validation.train_test_split (\n",
    "#    data_df, labels_df, test_size=0.2, random_state=0)\n",
    "\n",
    "#cscore = model.score(X_test, y_test) \n"
   ]
  },
  {
   "cell_type": "markdown",
   "metadata": {
    "collapsed": false
   },
   "source": [
    "### Find the mean accuracy on the model \n",
    "\n",
    "Cross validate the results on model by k folding.\n",
    "\n"
   ]
  },
  {
   "cell_type": "code",
   "execution_count": null,
   "metadata": {
    "collapsed": false
   },
   "outputs": [],
   "source": [
    "scores = cross_validation.cross_val_score(model,data_df,label_numpy_arr,cv=5)"
   ]
  },
  {
   "cell_type": "code",
   "execution_count": null,
   "metadata": {
    "collapsed": false
   },
   "outputs": [],
   "source": [
    "print(scores)\n",
    "print('Accuracy: %0.2f (+/-%0.2f)' % (scores.mean(), scores.std()*2))"
   ]
  }
 ],
 "metadata": {
  "anaconda-cloud": {},
  "kernelspec": {
   "display_name": "Python [conda root]",
   "language": "python",
   "name": "conda-root-py"
  },
  "language_info": {
   "codemirror_mode": {
    "name": "ipython",
    "version": 3
   },
   "file_extension": ".py",
   "mimetype": "text/x-python",
   "name": "python",
   "nbconvert_exporter": "python",
   "pygments_lexer": "ipython3",
   "version": "3.5.2"
  }
 },
 "nbformat": 4,
 "nbformat_minor": 1
}
