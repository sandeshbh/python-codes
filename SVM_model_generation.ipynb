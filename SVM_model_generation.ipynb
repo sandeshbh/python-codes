{
 "cells": [
  {
   "cell_type": "markdown",
   "metadata": {},
   "source": [
    "### Load training dataset\n",
    "\n",
    "    Writing a sample for running SVM on training dataset. Using feature selection of threshold 25% of mean variance.\n",
    "    "
   ]
  },
  {
   "cell_type": "code",
   "execution_count": 11,
   "metadata": {
    "collapsed": false
   },
   "outputs": [],
   "source": [
    "import numpy ;\n",
    "import pandas as pd;\n",
    "import os;\n",
    "from sklearn.externals import joblib;\n",
    "from sklearn import svm;\n",
    "\n",
    "train_data_loc = '../results/data_without_na.csv';\n",
    "train_labels_loc = '../dataset/trueclass.txt';\n",
    "test_labels_loc = '../dataset/testdata/testdata.txt';\n",
    "\n",
    "#data_df = pd.read_csv(train_data_loc, sep =\",\", index_col = 0, header = 0);\n",
    "#labels_df = pd.read_csv(train_labels_loc, sep=\" \", header = None, index_col= 1);\n",
    "\n",
    "data_df = pd.read_csv(train_data_loc, sep =\",\", index_col = 0);\n",
    "labels_df = pd.read_csv(train_labels_loc, sep=\" \", index_col= 1);\n"
   ]
  },
  {
   "cell_type": "markdown",
   "metadata": {},
   "source": [
    "### Creating Crossvalidation sets\n",
    "Here we are creating training and testing dataset for crossvalidation. test_size = 0.2 means that we have to take 80% data for training and rest we use for result.\n"
   ]
  },
  {
   "cell_type": "code",
   "execution_count": 12,
   "metadata": {
    "collapsed": false
   },
   "outputs": [],
   "source": [
    "# now let's try creating cross validation results\n",
    "from sklearn import cross_validation\n",
    "\n",
    "#label_numpy_arr = labels_df[:,0].ravel();\n",
    "\n",
    "X_train, X_test, y_train, y_test = cross_validation.train_test_split (\n",
    "    data_df, labels_df, test_size=0.5, random_state=0)\n",
    "\n"
   ]
  },
  {
   "cell_type": "code",
   "execution_count": 13,
   "metadata": {
    "collapsed": false
   },
   "outputs": [
    {
     "data": {
      "text/plain": [
       "SVC(C=1.0, cache_size=200, class_weight=None, coef0=0.0,\n",
       "  decision_function_shape=None, degree=3, gamma='auto', kernel='rbf',\n",
       "  max_iter=-1, probability=False, random_state=None, shrinking=True,\n",
       "  tol=0.001, verbose=False)"
      ]
     },
     "execution_count": 13,
     "metadata": {},
     "output_type": "execute_result"
    }
   ],
   "source": [
    "# X train - training data\n",
    "# X Test - testing data\n",
    "# Y train - training labels\n",
    "# Y_labels - testing labels\n",
    "\n",
    "train_labels = y_train.iloc[:,0].ravel()\n",
    "\n",
    "clf = svm.SVC()\n",
    "clf.fit(X_train, train_labels)  "
   ]
  },
  {
   "cell_type": "code",
   "execution_count": 14,
   "metadata": {
    "collapsed": false
   },
   "outputs": [
    {
     "data": {
      "text/plain": [
       "['../models/svm_training_split_pearson_fit.pkl',\n",
       " '../models/svm_training_split_pearson_fit.pkl_01.npy',\n",
       " '../models/svm_training_split_pearson_fit.pkl_02.npy',\n",
       " '../models/svm_training_split_pearson_fit.pkl_03.npy',\n",
       " '../models/svm_training_split_pearson_fit.pkl_04.npy',\n",
       " '../models/svm_training_split_pearson_fit.pkl_05.npy',\n",
       " '../models/svm_training_split_pearson_fit.pkl_06.npy',\n",
       " '../models/svm_training_split_pearson_fit.pkl_07.npy',\n",
       " '../models/svm_training_split_pearson_fit.pkl_08.npy',\n",
       " '../models/svm_training_split_pearson_fit.pkl_09.npy',\n",
       " '../models/svm_training_split_pearson_fit.pkl_10.npy',\n",
       " '../models/svm_training_split_pearson_fit.pkl_11.npy']"
      ]
     },
     "execution_count": 14,
     "metadata": {},
     "output_type": "execute_result"
    }
   ],
   "source": [
    "joblib.dump(clf,'../models/svm_training_split_pearson_fit.pkl')"
   ]
  },
  {
   "cell_type": "code",
   "execution_count": 15,
   "metadata": {
    "collapsed": false
   },
   "outputs": [
    {
     "name": "stdout",
     "output_type": "stream",
     "text": [
      "0.55075\n"
     ]
    }
   ],
   "source": [
    "cscore = clf.score(X_test, y_test)     \n",
    "print(cscore)"
   ]
  }
 ],
 "metadata": {
  "anaconda-cloud": {},
  "kernelspec": {
   "display_name": "Python [conda root]",
   "language": "python",
   "name": "conda-root-py"
  },
  "language_info": {
   "codemirror_mode": {
    "name": "ipython",
    "version": 3
   },
   "file_extension": ".py",
   "mimetype": "text/x-python",
   "name": "python",
   "nbconvert_exporter": "python",
   "pygments_lexer": "ipython3",
   "version": "3.5.2"
  }
 },
 "nbformat": 4,
 "nbformat_minor": 1
}
