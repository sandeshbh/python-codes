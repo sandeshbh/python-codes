{
 "cells": [
  {
   "cell_type": "markdown",
   "metadata": {},
   "source": [
    "### Principal Component Analysis\n",
    "\n",
    "Apply PCA to see dimensionality reduction and then apply feature variance based threshold.\n"
   ]
  },
  {
   "cell_type": "code",
   "execution_count": null,
   "metadata": {
    "collapsed": false
   },
   "outputs": [],
   "source": [
    "import numpy ;\n",
    "import pandas as pd;\n",
    "import os;\n",
    "from sklearn import decomposition\n",
    "\n",
    "train_data_loc = '../results/data_without_na.csv';\n",
    "train_labels_loc = '../dataset/trueclass.txt';\n",
    "\n",
    "#train_data = numpy.loadtxt(train_data_loc);\n",
    "#train_labels = numpy.loadtxt(train_labels_loc);\n",
    "#labels_df = pd.read_csv(train_labels_loc, sep=\" \", header = None);\n",
    "data_df = pd.read_csv(train_data_loc, sep =\",\", index_col = [0], header = 0);\n"
   ]
  },
  {
   "cell_type": "code",
   "execution_count": null,
   "metadata": {
    "collapsed": false
   },
   "outputs": [],
   "source": [
    "\n",
    "pca = decomposition.PCA(n_components=20)\n",
    "print('PCA Object is created.')\n",
    "f = pca.fit_transform(data_df)\n",
    "#print('F object is transformed')\n",
    "#df = pca.transform(data_df)\n"
   ]
  },
  {
   "cell_type": "code",
   "execution_count": null,
   "metadata": {
    "collapsed": false
   },
   "outputs": [],
   "source": [
    "\n",
    "eigenvalues = pca.explained_variance_\n",
    "print(eigenvalues)"
   ]
  },
  {
   "cell_type": "code",
   "execution_count": null,
   "metadata": {
    "collapsed": false
   },
   "outputs": [],
   "source": [
    "print(len(data_df.columns.tolist()))\n"
   ]
  }
 ],
 "metadata": {
  "anaconda-cloud": {},
  "kernelspec": {
   "display_name": "Python [conda root]",
   "language": "python",
   "name": "conda-root-py"
  },
  "language_info": {
   "codemirror_mode": {
    "name": "ipython",
    "version": 3
   },
   "file_extension": ".py",
   "mimetype": "text/x-python",
   "name": "python",
   "nbconvert_exporter": "python",
   "pygments_lexer": "ipython3",
   "version": "3.5.2"
  }
 },
 "nbformat": 4,
 "nbformat_minor": 1
}
